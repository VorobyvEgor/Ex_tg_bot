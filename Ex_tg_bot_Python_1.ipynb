{
 "cells": [
  {
   "cell_type": "markdown",
   "metadata": {
    "toc": true
   },
   "source": [
    "<h1>Table of Contents<span class=\"tocSkip\"></span></h1>\n",
    "<div class=\"toc\"><ul class=\"toc-item\"><li><span><a href=\"#Неоднородные-данные\" data-toc-modified-id=\"Неоднородные-данные-1\"><span class=\"toc-item-num\">1&nbsp;&nbsp;</span>Неоднородные данные</a></span></li></ul></div>"
   ]
  },
  {
   "cell_type": "markdown",
   "metadata": {},
   "source": [
    "# Неоднородные данные"
   ]
  },
  {
   "cell_type": "markdown",
   "metadata": {},
   "source": [
    "Есть набор данных о посадочных талонах, который поступают от разных подрядчиков.\n",
    "Поэтому сами данные неоднородны.\n",
    "Вам необходимо реализовать логику, которая приведет все данные к одному формату.\n",
    "\n",
    "Входные данные представляют собой список следующих полей:\n",
    "1. ticket_no\n",
    "2. flight_id\n",
    "3. boarding_no\n",
    "4. seat_no\n",
    "\n",
    "Ниже указано то, какие данные могут быть в каждом из полей и как это поле нужно преобразовать.\n",
    "\n",
    "Поле ticket_no всегда содержит строчку, а поле flight_id всегда содержит число.\n",
    "Возможные значения boarding_no:\n",
    "1. Строчка, начинающееся с \"Номер:\"\n",
    "2. Строчка (начинается не с \"Номер:\")\n",
    "Необходимо все значения привести к строчке, без начала \"Номер:\"\n",
    "\n",
    "Возможные значения seat_no:\n",
    "1. Ряд и место, разделенные символом \";\"\n",
    "2. Ряд и место слитно\n",
    "Необходимо все значения привести к написанию, через точку с запятой (символ \";\").\n",
    "Ряд - это целое число от 1 до 299. Число пишится без ведущих нулей - 1, а не 01.\n",
    "Место - это буква от \"A\" до \"H\".\n",
    "Формат выходных данных\n",
    "\n",
    "Необходимо вывести N строчек.\n",
    "В каждой строчке записаны исправленные поля ticket_no, flight_id, boarding_no, seat_no.\n",
    "Все поля разделены одной запятой.\n",
    "\n",
    "**Пример входных данных**\n",
    "\n",
    "5\n",
    "\n",
    "EXGJGJ521,1,252st,10;C\n",
    "\n",
    "2Jw2n5l,2,753ss,1F\n",
    "\n",
    "KUIK2YL,3,Номер:327ggs,30A\n",
    "\n",
    "8XSOVGVNDQ,4,Номер:mn001,51;A\n",
    "\n",
    "DRXGH62d,5,7733d,62;A\n",
    "\n",
    "**Пример выходных данных**\n",
    "\n",
    "EXGJGJ521,1,252st,10;C\n",
    "\n",
    "2Jw2n5l,2,753ss,1;F\n",
    "\n",
    "KUIK2YL,3,327ggs,30;A\n",
    "\n",
    "8XSOVGVNDQ,4,mn001,51;A\n",
    "\n",
    "DRXGH62d,5,7733d,62;A"
   ]
  },
  {
   "cell_type": "code",
   "execution_count": 15,
   "metadata": {},
   "outputs": [
    {
     "name": "stdout",
     "output_type": "stream",
     "text": [
      "5\n",
      "EXGJGJ521,1,252st,10;C\n",
      "2Jw2n5l,2,753ss,1F\n",
      "KUIK2YL,3,Номер:327ggs,30A\n",
      "8XSOVGVNDQ,4,Номер:mn001,51;A\n",
      "DRXGH62d,5,7733d,62;A\n",
      "EXGJGJ521,1,252st,10;C\n",
      "2Jw2n5l,2,753ss,1;F\n",
      "KUIK2YL,3,327ggs,30;A\n",
      "8XSOVGVNDQ,4,mn001,51;A\n",
      "DRXGH62d,5,7733d,62;A\n"
     ]
    }
   ],
   "source": [
    "n = int(input())\n",
    "rez = []\n",
    "for i in range(n):\n",
    "    s = ''\n",
    "    ticket_no, flight_id, boarding_no, seat_no = input().split(',')\n",
    "    \n",
    "    if 'Номер:' in boarding_no:\n",
    "        boarding_no = boarding_no.replace('Номер:', '')\n",
    "    \n",
    "    if not ';' in seat_no:\n",
    "    \n",
    "        num = ''\n",
    "    \n",
    "        for i in seat_no:\n",
    "            if i.isdigit():\n",
    "                num += i\n",
    "            else:\n",
    "                break\n",
    "        seat = num + ';' + seat_no.replace(num, '')\n",
    "    else:\n",
    "        seat = seat_no\n",
    "               \n",
    "    rez.append(','.join([ticket_no, flight_id, boarding_no, seat]))\n",
    "\n",
    "for i in rez:\n",
    "    print(i)"
   ]
  }
 ],
 "metadata": {
  "kernelspec": {
   "display_name": "Python 3",
   "language": "python",
   "name": "python3"
  },
  "language_info": {
   "codemirror_mode": {
    "name": "ipython",
    "version": 3
   },
   "file_extension": ".py",
   "mimetype": "text/x-python",
   "name": "python",
   "nbconvert_exporter": "python",
   "pygments_lexer": "ipython3",
   "version": "3.8.5"
  },
  "toc": {
   "base_numbering": 1,
   "nav_menu": {},
   "number_sections": true,
   "sideBar": true,
   "skip_h1_title": false,
   "title_cell": "Table of Contents",
   "title_sidebar": "Contents",
   "toc_cell": true,
   "toc_position": {},
   "toc_section_display": true,
   "toc_window_display": false
  }
 },
 "nbformat": 4,
 "nbformat_minor": 4
}
