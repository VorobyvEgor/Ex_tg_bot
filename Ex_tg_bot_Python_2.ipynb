{
 "cells": [
  {
   "cell_type": "markdown",
   "metadata": {
    "toc": true
   },
   "source": [
    "<h1>Table of Contents<span class=\"tocSkip\"></span></h1>\n",
    "<div class=\"toc\"><ul class=\"toc-item\"><li><span><a href=\"#Колонки-с-пропусками\" data-toc-modified-id=\"Колонки-с-пропусками-1\"><span class=\"toc-item-num\">1&nbsp;&nbsp;</span>Колонки с пропусками</a></span></li><li><span><a href=\"#Статистика-цен-на-билеты\" data-toc-modified-id=\"Статистика-цен-на-билеты-2\"><span class=\"toc-item-num\">2&nbsp;&nbsp;</span>Статистика цен на билеты</a></span></li><li><span><a href=\"#Статистика-цен-на-выбранные-билеты\" data-toc-modified-id=\"Статистика-цен-на-выбранные-билеты-3\"><span class=\"toc-item-num\">3&nbsp;&nbsp;</span>Статистика цен на выбранные билеты</a></span></li><li><span><a href=\"#Удаление-отсутствующих-данных\" data-toc-modified-id=\"Удаление-отсутствующих-данных-4\"><span class=\"toc-item-num\">4&nbsp;&nbsp;</span>Удаление отсутствующих данных</a></span></li><li><span><a href=\"#Замена-отсутствующих-данных\" data-toc-modified-id=\"Замена-отсутствующих-данных-5\"><span class=\"toc-item-num\">5&nbsp;&nbsp;</span>Замена отсутствующих данных</a></span></li><li><span><a href=\"#Ближайшее-значение\" data-toc-modified-id=\"Ближайшее-значение-6\"><span class=\"toc-item-num\">6&nbsp;&nbsp;</span>Ближайшее значение</a></span></li></ul></div>"
   ]
  },
  {
   "cell_type": "code",
   "execution_count": 1,
   "metadata": {},
   "outputs": [],
   "source": [
    "import pandas as pd\n",
    "import numpy as np"
   ]
  },
  {
   "cell_type": "markdown",
   "metadata": {
    "heading_collapsed": true
   },
   "source": [
    "# Колонки с пропусками"
   ]
  },
  {
   "cell_type": "markdown",
   "metadata": {
    "hidden": true
   },
   "source": [
    "Имеется набор данных о полетах. К сожалению, в некоторых колонках встречаются пропуски.\n",
    "Вам необходимо определить те колонки, в которых есть пропуски.\n",
    "\n",
    "В данной задаче не надо читать или писать данные.\n",
    "Вместо этого необходимо только реализовать функцию find_null_columns(df).\n",
    "Эта функция принимает pandas.DataFrame (данные о полетах) и возвращает список имен колонок с пропусками.\n",
    "Порядок колонок такой же, как и в исходном pandas.DataFrame.\n",
    "\n",
    "Шаблон для решения\n",
    "``` python\n",
    "\n",
    "import pandas as pd\n",
    "import numpy as np\n",
    "\n",
    "def find_null_columns(df):\n",
    "    '''Вставьте ваш код здесь'''\n",
    "```\n",
    "\n",
    "Примечание\n",
    "\n",
    "В качестве отступа внутри функции используется 4 пробела.\n",
    "\n",
    "Комментарий к примерам\n",
    "\n",
    "Ниже приведены примеры для лучшего понимания условия задачи.\n",
    "Однако не стоит ориентироваться на них, как на пример данных, которые нужно читать или выводить, потому что в этой задаче не надо ничего читать и писать.\n",
    "Нужно только реализовать указанную функцию.\n",
    "Это означает, что весь код решения должен находиться внутри тела функции и возвращать требуемый результат через инструкцию return. Операции считывания данных (например, input()) или их вывода (например, print()) писать не надо.\n",
    "Нужно оперировать внутри функции только аргументами, которые подставляются в функцию автоматически.\n",
    "\n",
    "***Пример входных данных для функции***\n",
    "\n",
    "flight_id,flight_no,status,aircraft_code\n",
    "\n",
    "1,,Delayed,B125\n",
    "\n",
    "2,X77234,Cancelled,\n",
    "\n",
    "3,Y987544,Departed,C12678\n",
    "\n",
    "\n",
    "***Пример результата работы функции***\n",
    "\n",
    "[\"flight_no\", \"aircraft_code\"]\n"
   ]
  },
  {
   "cell_type": "code",
   "execution_count": 46,
   "metadata": {
    "hidden": true
   },
   "outputs": [],
   "source": [
    "df = pd.DataFrame({\n",
    "    'flight_id': [1, 2, 3],\n",
    "    'flight_no': [np.NaN, 'X77234', 'Y987544'],\n",
    "    'status': ['Delayed', 'Cancelled', 'Departed'],\n",
    "    'aircraft_code': ['B125', np.NaN, 'C12678']\n",
    "})\n",
    "\n",
    "def find_null_columns(df):\n",
    "    return df.columns[df.isnull().sum() > 0].to_list()"
   ]
  },
  {
   "cell_type": "markdown",
   "metadata": {
    "heading_collapsed": true
   },
   "source": [
    "# Статистика цен на билеты"
   ]
  },
  {
   "cell_type": "markdown",
   "metadata": {
    "hidden": true
   },
   "source": [
    "Дан набор цен о билетах.\n",
    "Необходимо вычислить среднюю цену, медиану, а также стандартное отклонение.\n",
    "\n",
    "В данной задаче не надо читать или писать данные.\n",
    "Вместо этого необходимо только реализовать функцию calculate_statistics(df).\n",
    "Эта функция принимает pandas.DataFrame - данные о билетах.\n",
    "Цена (вещественное число) записана в колонке price.\n",
    "\n",
    "Функция должна вернуть словарь с 3 ключами:\n",
    "1. mean - содержит среднее\n",
    "2. median - содержит медиану\n",
    "3. std - содержит стандартное отклонение\n",
    "\n",
    "Шаблон для решения\n",
    "``` python\n",
    "import pandas as pd\n",
    "import numpy as np\n",
    "\n",
    "def calculate_statistics(df):\n",
    "    '''Вставьте ваш код здесь'''\n",
    "```\n",
    "\n",
    "Примечание\n",
    "\n",
    "В качестве отступа внутри функции используется 4 пробела. \n",
    "\n",
    "Комментарий к примерам\n",
    "\n",
    "Ниже приведены примеры для лучшего понимания условия задачи.\n",
    "Однако не стоит ориентироваться на них, как на пример данных, которые нужно читать или выводить, потому что в этой задаче не надо ничего читать и писать.\n",
    "Нужно только реализовать указанную функцию.\n",
    "Это означает, что весь код решения должен находиться внутри тела функции и возвращать требуемый результат через инструкцию return. Операции считывания данных (например, input()) или их вывода (например, print()) писать не надо.\n",
    "Нужно оперировать внутри функции только аргументами, которые подставляются в функцию автоматически.\n",
    "\n",
    "***Пример входных данных для функции***\n",
    "\n",
    "ticket_id,price\n",
    "\n",
    "FBD1235F,100.00\n",
    "\n",
    "GDERWRWM,160.00\n",
    "\n",
    "TTEHWHER,200.00\n",
    "\n",
    "\n",
    "***Пример результата работы функции***\n",
    "\n",
    "{\n",
    "\n",
    "    \"mean\": 153.33,   \n",
    "    \"median\": 160.00,    \n",
    "    \"std\": 50.33\n",
    "}\n"
   ]
  },
  {
   "cell_type": "code",
   "execution_count": 70,
   "metadata": {
    "hidden": true
   },
   "outputs": [
    {
     "data": {
      "text/html": [
       "<div>\n",
       "<style scoped>\n",
       "    .dataframe tbody tr th:only-of-type {\n",
       "        vertical-align: middle;\n",
       "    }\n",
       "\n",
       "    .dataframe tbody tr th {\n",
       "        vertical-align: top;\n",
       "    }\n",
       "\n",
       "    .dataframe thead th {\n",
       "        text-align: right;\n",
       "    }\n",
       "</style>\n",
       "<table border=\"1\" class=\"dataframe\">\n",
       "  <thead>\n",
       "    <tr style=\"text-align: right;\">\n",
       "      <th></th>\n",
       "      <th>ticket_id</th>\n",
       "      <th>price</th>\n",
       "    </tr>\n",
       "  </thead>\n",
       "  <tbody>\n",
       "    <tr>\n",
       "      <th>0</th>\n",
       "      <td>FBD1235F</td>\n",
       "      <td>100.0</td>\n",
       "    </tr>\n",
       "    <tr>\n",
       "      <th>1</th>\n",
       "      <td>GDERWRWM</td>\n",
       "      <td>160.0</td>\n",
       "    </tr>\n",
       "    <tr>\n",
       "      <th>2</th>\n",
       "      <td>TTEHWHER</td>\n",
       "      <td>200.0</td>\n",
       "    </tr>\n",
       "    <tr>\n",
       "      <th>3</th>\n",
       "      <td>hdsjksdkj</td>\n",
       "      <td>NaN</td>\n",
       "    </tr>\n",
       "  </tbody>\n",
       "</table>\n",
       "</div>"
      ],
      "text/plain": [
       "   ticket_id  price\n",
       "0   FBD1235F  100.0\n",
       "1   GDERWRWM  160.0\n",
       "2   TTEHWHER  200.0\n",
       "3  hdsjksdkj    NaN"
      ]
     },
     "execution_count": 70,
     "metadata": {},
     "output_type": "execute_result"
    }
   ],
   "source": [
    "df = pd.DataFrame({\n",
    "    'ticket_id': ['FBD1235F', 'GDERWRWM', 'TTEHWHER', 'hdsjksdkj'],\n",
    "    'price': [100.00, 160.00, 200.00, np.NaN]})\n",
    "df"
   ]
  },
  {
   "cell_type": "code",
   "execution_count": 76,
   "metadata": {
    "hidden": true
   },
   "outputs": [],
   "source": [
    "def calculate_statistics(df):\n",
    "    return df.price.agg(['mean', 'median', 'std']).to_dict()"
   ]
  },
  {
   "cell_type": "code",
   "execution_count": 77,
   "metadata": {
    "hidden": true
   },
   "outputs": [
    {
     "data": {
      "text/plain": [
       "{'mean': 153.33333333333334, 'median': 160.0, 'std': 50.33222956847166}"
      ]
     },
     "execution_count": 77,
     "metadata": {},
     "output_type": "execute_result"
    }
   ],
   "source": [
    "calculate_statistics(df)"
   ]
  },
  {
   "cell_type": "markdown",
   "metadata": {
    "heading_collapsed": true
   },
   "source": [
    "# Статистика цен на выбранные билеты"
   ]
  },
  {
   "cell_type": "markdown",
   "metadata": {
    "hidden": true
   },
   "source": [
    "Дан набор цен о билетах.\n",
    "Необходимо вычислить среднюю цену, медиану, а также стандартное отклонение для выбранных билетов.\n",
    "Другими словами надо учитывать только те билеты, у которых идентификатор принадлежит множеству выбранных билетов.\n",
    "\n",
    "В данной задаче не надо читать или писать данные.\n",
    "Вместо этого необходимо только реализовать функцию calculate_statistics(df, ticket_ids).\n",
    "Эта функция принимает два параметра:\n",
    "1. df - pandas.DataFrame c данными о билетах.\n",
    "2. ticket_ids  - список из строк, выбранные идентификаторы билетов.\n",
    "Идентификатор билета записан в колонке ticket_id, а цена в колонке price.\n",
    "\n",
    "Функция должна вернуть словарь с 3 ключами:\n",
    "1. mean - содержит среднее\n",
    "2. median - содержит медиану\n",
    "3. std - содержит стандартное отклонение\n",
    "\n",
    "Шаблон для решения\n",
    "``` python\n",
    "import pandas as pd\n",
    "import numpy as np\n",
    "\n",
    "def calculate_statistics(df, ticket_ids):\n",
    "    '''Вставьте ваш код здесь'''\n",
    "```\n",
    "\n",
    "Примечание\n",
    "\n",
    "В качестве отступа внутри функции используется 4 пробела. \n",
    "\n",
    "Комментарий к примерам\n",
    "\n",
    "Ниже приведены примеры для лучшего понимания условия задачи.\n",
    "Однако не стоит ориентироваться на них, как на пример данных, которые нужно читать или выводить, потому что в этой задаче не надо ничего читать и писать.\n",
    "Нужно только реализовать указанную функцию.\n",
    "Это означает, что весь код решения должен находиться внутри тела функции и возвращать требуемый результат через инструкцию return. Операции считывания данных (например, input()) или их вывода (например, print()) писать не надо.\n",
    "Нужно оперировать внутри функции только аргументами, которые подставляются в функцию автоматически.\n",
    "\n",
    "***Пример входных данных для функции***\n",
    "\n",
    "FBD1235F,GDERWRWM,TTEHWHER\n",
    "\n",
    "ticket_id,price\n",
    "\n",
    "FBD1235F,100.00\n",
    "\n",
    "GDERWRWM,160.00\n",
    "\n",
    "TTEHWHER,200.00\n",
    "\n",
    "NWTCKTSS,340.50\n",
    "\n",
    "\n",
    "Пример результата работы функции\n",
    "\n",
    "{\n",
    "\n",
    "    \"mean\": 153.33,\n",
    "    \"median\": 160.00,\n",
    "    \"std\": 50.33\n",
    "\n",
    "}\n"
   ]
  },
  {
   "cell_type": "code",
   "execution_count": 92,
   "metadata": {
    "hidden": true
   },
   "outputs": [],
   "source": [
    "df = pd.DataFrame({\n",
    "    'ticket_id': ['FBD1235F', 'GDERWRWM', 'TTEHWHER', 'NWTCKTSS'],\n",
    "    'price': [100, 160, 200, 340.50]\n",
    "})\n",
    "ticket_ids = ['FBD1235F', 'GDERWRWM', 'TTEHWHER']"
   ]
  },
  {
   "cell_type": "code",
   "execution_count": 93,
   "metadata": {
    "hidden": true
   },
   "outputs": [
    {
     "data": {
      "text/plain": [
       "{'mean': 153.33333333333334, 'median': 160.0, 'std': 50.33222956847166}"
      ]
     },
     "execution_count": 93,
     "metadata": {},
     "output_type": "execute_result"
    }
   ],
   "source": [
    "def calculate_statistics(df, ticket_ids):\n",
    "    df = df.set_index('ticket_id')\n",
    "    return df.loc[ticket_ids].price.agg(['mean', 'median', 'std']).to_dict()"
   ]
  },
  {
   "cell_type": "markdown",
   "metadata": {
    "heading_collapsed": true
   },
   "source": [
    "# Удаление отсутствующих данных"
   ]
  },
  {
   "cell_type": "markdown",
   "metadata": {
    "hidden": true
   },
   "source": [
    "Дан набор цен о билетах, однако в некоторых строчках цена отсутствует.\n",
    "Необходимо удалить те строчки, в которых хотя бы одно поле nan (отсутствует).\n",
    "\n",
    "В данной задаче не надо читать или писать данные.\n",
    "Вместо этого необходимо только реализовать функцию remove_nan(df).\n",
    "Эта функция принимает pandas.DataFrame - набор данных о билетах.\n",
    "Она должна вернуть новый pandas.DataFrame в котором удалены строчки с nan.\n",
    "Порядок остальных строк должен быть таким же, как и в исходном наборе данных.\n",
    "\n",
    "Шаблон для решения\n",
    "``` python\n",
    "import pandas as pd\n",
    "import numpy as np\n",
    "\n",
    "def remove_nan(df):\n",
    "    '''Вставьте ваш код здесь'''\n",
    "```\n",
    "\n",
    "Примечание\n",
    "\n",
    "В качестве отступа внутри функции используется 4 пробела. \n",
    "\n",
    "Комментарий к примерам\n",
    "\n",
    "Ниже приведены примеры для лучшего понимания условия задачи.\n",
    "Однако не стоит ориентироваться на них, как на пример данных, которые нужно читать или выводить, потому что в этой задаче не надо ничего читать и писать.\n",
    "Нужно только реализовать указанную функцию.\n",
    "Это означает, что весь код решения должен находиться внутри тела функции и возвращать требуемый результат через инструкцию return. Операции считывания данных (например, input()) или их вывода (например, print()) писать не надо.\n",
    "Нужно оперировать внутри функции только аргументами, которые подставляются в функцию автоматически.\n",
    "\n",
    "***Пример входных данных для функции***\n",
    "\n",
    "ticket_id,flight_id,price\n",
    "\n",
    "FBD1235F,XY2554,100.00\n",
    "\n",
    "XTT2F576,,20.00\n",
    "\n",
    "QTH36773,NF0514,\n",
    "\n",
    "GDERWRWM,AB4662,160.00\n",
    "\n",
    "TTEHWHER,CD9962,200.00\n",
    "\n",
    "***Пример результата работы функции***\n",
    "\n",
    "ticket_id,flight_id,price\n",
    "\n",
    "FBD1235F,XY2554,100.0\n",
    "\n",
    "GDERWRWM,AB4662,160.0\n",
    "\n",
    "TTEHWHER,CD9962,200.0\n"
   ]
  },
  {
   "cell_type": "code",
   "execution_count": 3,
   "metadata": {
    "hidden": true
   },
   "outputs": [
    {
     "data": {
      "text/html": [
       "<div>\n",
       "<style scoped>\n",
       "    .dataframe tbody tr th:only-of-type {\n",
       "        vertical-align: middle;\n",
       "    }\n",
       "\n",
       "    .dataframe tbody tr th {\n",
       "        vertical-align: top;\n",
       "    }\n",
       "\n",
       "    .dataframe thead th {\n",
       "        text-align: right;\n",
       "    }\n",
       "</style>\n",
       "<table border=\"1\" class=\"dataframe\">\n",
       "  <thead>\n",
       "    <tr style=\"text-align: right;\">\n",
       "      <th></th>\n",
       "      <th>ticket_id</th>\n",
       "      <th>flight_id</th>\n",
       "      <th>price</th>\n",
       "    </tr>\n",
       "  </thead>\n",
       "  <tbody>\n",
       "    <tr>\n",
       "      <th>0</th>\n",
       "      <td>FBD1235F</td>\n",
       "      <td>XY2554</td>\n",
       "      <td>100.0</td>\n",
       "    </tr>\n",
       "    <tr>\n",
       "      <th>1</th>\n",
       "      <td>XTT2F576</td>\n",
       "      <td>NaN</td>\n",
       "      <td>20.0</td>\n",
       "    </tr>\n",
       "    <tr>\n",
       "      <th>2</th>\n",
       "      <td>QTH36773</td>\n",
       "      <td>NF0514</td>\n",
       "      <td>NaN</td>\n",
       "    </tr>\n",
       "    <tr>\n",
       "      <th>3</th>\n",
       "      <td>GDERWRWM</td>\n",
       "      <td>AB4662</td>\n",
       "      <td>160.0</td>\n",
       "    </tr>\n",
       "    <tr>\n",
       "      <th>4</th>\n",
       "      <td>TTEHWHER</td>\n",
       "      <td>CD9962</td>\n",
       "      <td>200.0</td>\n",
       "    </tr>\n",
       "  </tbody>\n",
       "</table>\n",
       "</div>"
      ],
      "text/plain": [
       "  ticket_id flight_id  price\n",
       "0  FBD1235F    XY2554  100.0\n",
       "1  XTT2F576       NaN   20.0\n",
       "2  QTH36773    NF0514    NaN\n",
       "3  GDERWRWM    AB4662  160.0\n",
       "4  TTEHWHER    CD9962  200.0"
      ]
     },
     "execution_count": 3,
     "metadata": {},
     "output_type": "execute_result"
    }
   ],
   "source": [
    "df = pd.DataFrame({\n",
    "    'ticket_id': ['FBD1235F', 'XTT2F576', 'QTH36773', 'GDERWRWM', 'TTEHWHER'],\n",
    "    'flight_id': ['XY2554', np.NaN, 'NF0514', 'AB4662', 'CD9962'],\n",
    "    'price': [100, 20, np.NaN, 160, 200]\n",
    "})\n",
    "df"
   ]
  },
  {
   "cell_type": "code",
   "execution_count": 5,
   "metadata": {
    "hidden": true
   },
   "outputs": [],
   "source": [
    "def remove_nan(df):\n",
    "    return df.dropna()"
   ]
  },
  {
   "cell_type": "code",
   "execution_count": 6,
   "metadata": {
    "hidden": true
   },
   "outputs": [
    {
     "data": {
      "text/html": [
       "<div>\n",
       "<style scoped>\n",
       "    .dataframe tbody tr th:only-of-type {\n",
       "        vertical-align: middle;\n",
       "    }\n",
       "\n",
       "    .dataframe tbody tr th {\n",
       "        vertical-align: top;\n",
       "    }\n",
       "\n",
       "    .dataframe thead th {\n",
       "        text-align: right;\n",
       "    }\n",
       "</style>\n",
       "<table border=\"1\" class=\"dataframe\">\n",
       "  <thead>\n",
       "    <tr style=\"text-align: right;\">\n",
       "      <th></th>\n",
       "      <th>ticket_id</th>\n",
       "      <th>flight_id</th>\n",
       "      <th>price</th>\n",
       "    </tr>\n",
       "  </thead>\n",
       "  <tbody>\n",
       "    <tr>\n",
       "      <th>0</th>\n",
       "      <td>FBD1235F</td>\n",
       "      <td>XY2554</td>\n",
       "      <td>100.0</td>\n",
       "    </tr>\n",
       "    <tr>\n",
       "      <th>3</th>\n",
       "      <td>GDERWRWM</td>\n",
       "      <td>AB4662</td>\n",
       "      <td>160.0</td>\n",
       "    </tr>\n",
       "    <tr>\n",
       "      <th>4</th>\n",
       "      <td>TTEHWHER</td>\n",
       "      <td>CD9962</td>\n",
       "      <td>200.0</td>\n",
       "    </tr>\n",
       "  </tbody>\n",
       "</table>\n",
       "</div>"
      ],
      "text/plain": [
       "  ticket_id flight_id  price\n",
       "0  FBD1235F    XY2554  100.0\n",
       "3  GDERWRWM    AB4662  160.0\n",
       "4  TTEHWHER    CD9962  200.0"
      ]
     },
     "execution_count": 6,
     "metadata": {},
     "output_type": "execute_result"
    }
   ],
   "source": [
    "remove_nan(df)"
   ]
  },
  {
   "cell_type": "markdown",
   "metadata": {},
   "source": [
    "# Замена отсутствующих данных"
   ]
  },
  {
   "cell_type": "markdown",
   "metadata": {},
   "source": [
    "Дан набор цен о билетах, однако в некоторых строчках цена и часть других полей отсутствует.\n",
    "Необходимо заменить средним значением отсутствующие цены.\n",
    "Другие отсутствующие поля надо оставить как есть. \n",
    "\n",
    "В данной задаче не надо читать или писать данные.\n",
    "Вместо этого необходимо только реализовать функцию \n",
    "``` python\n",
    "replace_nan(df).\n",
    "```\n",
    "Эта функция принимает pandas.DataFrame - набор данных о билетах. Цена записана к колонке price.\n",
    "Эта функция должна вернуть новый pandas.DataFrame в котором отсутствующие цены заменены средним значением.\n",
    "Остальные отступающие поля оставить как есть.\n",
    "Порядок всех строк должен быть таким же, как и в исходном наборе данных.\n",
    "\n",
    "Шаблон для решения\n",
    "``` python\n",
    "import pandas as pd\n",
    "import numpy as np\n",
    "\n",
    "def replace_nan(df):\n",
    "    '''Вставьте ваш код здесь'''\n",
    "```\n",
    "\n",
    "Примечание\n",
    "\n",
    "В качестве отступа внутри функции используется 4 пробела. \n",
    "\n",
    "В общем случае замена отсутствующих значений посчитанным средним значением - не самая хорошая практика.\n",
    "Во многих ситуациях среднее значение плохо характеризует \"типичное\" значение.\n",
    "\n",
    "Комментарий к примерам\n",
    "\n",
    "Ниже приведены примеры для лучшего понимания условия задачи.\n",
    "Однако не стоит ориентироваться на них, как на пример данных, которые нужно читать или выводить, потому что в этой задаче не надо ничего читать и писать.\n",
    "Нужно только реализовать указанную функцию.\n",
    "Это означает, что весь код решения должен находиться внутри тела функции и возвращать требуемый результат через инструкцию return. Операции считывания данных (например, input()) или их вывода (например, print()) писать не надо.\n",
    "Нужно оперировать внутри функции только аргументами, которые подставляются в функцию автоматически.\n",
    "\n",
    "***Пример входных данных для функции***\n",
    "\n",
    "ticket_id,flight_id,operator_id,price\n",
    "\n",
    "FBD1235F,XY2554,SKND,100.00\n",
    "\n",
    "XTT2F576,XY2554,,20.00\n",
    "\n",
    "QTH36773,NF0514,,\n",
    "\n",
    "GDERWRWM,AB4662,DTTG,10.00\n",
    "\n",
    "TTEHWHER,CD9962,AMAR,200.00\n",
    "\n",
    "\n",
    "***Пример результата работы функции***\n",
    "\n",
    "ticket_id,flight_id,operator_id,price\n",
    "\n",
    "FBD1235F,XY2554,SKND,100.00\n",
    "\n",
    "XTT2F576,XY2554,,20.00\n",
    "\n",
    "QTH36773,NF0514,,82.50\n",
    "\n",
    "GDERWRWM,AB4662,DTTG,10.00\n",
    "\n",
    "TTEHWHER,CD9962,AMAR,200.00\n"
   ]
  },
  {
   "cell_type": "code",
   "execution_count": 7,
   "metadata": {},
   "outputs": [
    {
     "data": {
      "text/html": [
       "<div>\n",
       "<style scoped>\n",
       "    .dataframe tbody tr th:only-of-type {\n",
       "        vertical-align: middle;\n",
       "    }\n",
       "\n",
       "    .dataframe tbody tr th {\n",
       "        vertical-align: top;\n",
       "    }\n",
       "\n",
       "    .dataframe thead th {\n",
       "        text-align: right;\n",
       "    }\n",
       "</style>\n",
       "<table border=\"1\" class=\"dataframe\">\n",
       "  <thead>\n",
       "    <tr style=\"text-align: right;\">\n",
       "      <th></th>\n",
       "      <th>ticket_id</th>\n",
       "      <th>flight_id</th>\n",
       "      <th>operator_id</th>\n",
       "      <th>price</th>\n",
       "    </tr>\n",
       "  </thead>\n",
       "  <tbody>\n",
       "    <tr>\n",
       "      <th>0</th>\n",
       "      <td>FBD1235F</td>\n",
       "      <td>XY2554</td>\n",
       "      <td>SKND</td>\n",
       "      <td>100.0</td>\n",
       "    </tr>\n",
       "    <tr>\n",
       "      <th>1</th>\n",
       "      <td>XTT2F576</td>\n",
       "      <td>XY2554</td>\n",
       "      <td>NaN</td>\n",
       "      <td>20.0</td>\n",
       "    </tr>\n",
       "    <tr>\n",
       "      <th>2</th>\n",
       "      <td>QTH36773</td>\n",
       "      <td>NF0514</td>\n",
       "      <td>NaN</td>\n",
       "      <td>NaN</td>\n",
       "    </tr>\n",
       "    <tr>\n",
       "      <th>3</th>\n",
       "      <td>GDERWRWM</td>\n",
       "      <td>AB4662</td>\n",
       "      <td>DTTG</td>\n",
       "      <td>10.0</td>\n",
       "    </tr>\n",
       "    <tr>\n",
       "      <th>4</th>\n",
       "      <td>TTEHWHER</td>\n",
       "      <td>CD9962</td>\n",
       "      <td>AMAR</td>\n",
       "      <td>200.0</td>\n",
       "    </tr>\n",
       "  </tbody>\n",
       "</table>\n",
       "</div>"
      ],
      "text/plain": [
       "  ticket_id flight_id operator_id  price\n",
       "0  FBD1235F    XY2554        SKND  100.0\n",
       "1  XTT2F576    XY2554         NaN   20.0\n",
       "2  QTH36773    NF0514         NaN    NaN\n",
       "3  GDERWRWM    AB4662        DTTG   10.0\n",
       "4  TTEHWHER    CD9962        AMAR  200.0"
      ]
     },
     "execution_count": 7,
     "metadata": {},
     "output_type": "execute_result"
    }
   ],
   "source": [
    "df = pd.DataFrame({\n",
    "    'ticket_id': ['FBD1235F', 'XTT2F576', 'QTH36773', 'GDERWRWM', 'TTEHWHER'],\n",
    "    'flight_id': ['XY2554', 'XY2554', 'NF0514', 'AB4662', 'CD9962'],\n",
    "    'operator_id': ['SKND', np.NaN, np.NaN, 'DTTG', 'AMAR'],\n",
    "    'price': [100, 20, np.NaN, 10, 200]\n",
    "})\n",
    "df"
   ]
  },
  {
   "cell_type": "code",
   "execution_count": 8,
   "metadata": {},
   "outputs": [],
   "source": [
    "def replace_nan(df):\n",
    "    df['price'] = df.price.fillna(df.price.mean())\n",
    "    return df"
   ]
  },
  {
   "cell_type": "code",
   "execution_count": 9,
   "metadata": {},
   "outputs": [
    {
     "data": {
      "text/html": [
       "<div>\n",
       "<style scoped>\n",
       "    .dataframe tbody tr th:only-of-type {\n",
       "        vertical-align: middle;\n",
       "    }\n",
       "\n",
       "    .dataframe tbody tr th {\n",
       "        vertical-align: top;\n",
       "    }\n",
       "\n",
       "    .dataframe thead th {\n",
       "        text-align: right;\n",
       "    }\n",
       "</style>\n",
       "<table border=\"1\" class=\"dataframe\">\n",
       "  <thead>\n",
       "    <tr style=\"text-align: right;\">\n",
       "      <th></th>\n",
       "      <th>ticket_id</th>\n",
       "      <th>flight_id</th>\n",
       "      <th>operator_id</th>\n",
       "      <th>price</th>\n",
       "    </tr>\n",
       "  </thead>\n",
       "  <tbody>\n",
       "    <tr>\n",
       "      <th>0</th>\n",
       "      <td>FBD1235F</td>\n",
       "      <td>XY2554</td>\n",
       "      <td>SKND</td>\n",
       "      <td>100.0</td>\n",
       "    </tr>\n",
       "    <tr>\n",
       "      <th>1</th>\n",
       "      <td>XTT2F576</td>\n",
       "      <td>XY2554</td>\n",
       "      <td>NaN</td>\n",
       "      <td>20.0</td>\n",
       "    </tr>\n",
       "    <tr>\n",
       "      <th>2</th>\n",
       "      <td>QTH36773</td>\n",
       "      <td>NF0514</td>\n",
       "      <td>NaN</td>\n",
       "      <td>82.5</td>\n",
       "    </tr>\n",
       "    <tr>\n",
       "      <th>3</th>\n",
       "      <td>GDERWRWM</td>\n",
       "      <td>AB4662</td>\n",
       "      <td>DTTG</td>\n",
       "      <td>10.0</td>\n",
       "    </tr>\n",
       "    <tr>\n",
       "      <th>4</th>\n",
       "      <td>TTEHWHER</td>\n",
       "      <td>CD9962</td>\n",
       "      <td>AMAR</td>\n",
       "      <td>200.0</td>\n",
       "    </tr>\n",
       "  </tbody>\n",
       "</table>\n",
       "</div>"
      ],
      "text/plain": [
       "  ticket_id flight_id operator_id  price\n",
       "0  FBD1235F    XY2554        SKND  100.0\n",
       "1  XTT2F576    XY2554         NaN   20.0\n",
       "2  QTH36773    NF0514         NaN   82.5\n",
       "3  GDERWRWM    AB4662        DTTG   10.0\n",
       "4  TTEHWHER    CD9962        AMAR  200.0"
      ]
     },
     "execution_count": 9,
     "metadata": {},
     "output_type": "execute_result"
    }
   ],
   "source": [
    "replace_nan(df)"
   ]
  },
  {
   "cell_type": "markdown",
   "metadata": {},
   "source": [
    "# Ближайшее значение"
   ]
  },
  {
   "cell_type": "markdown",
   "metadata": {},
   "source": [
    "Дан набор цен о билетах. Кроме того, задана некоторая выбранная цена price.\n",
    "Необходимо найти ту строчку, в которой значение цены самое близкое к выбранной цене.\n",
    "\n",
    "В данной задаче не надо читать или писать данные.\n",
    "Вместо этого необходимо только реализовать функцию find_nearest(df, price).\n",
    "Эта функция принимает два аргумента:\n",
    "1. df - pandas.DataFrame - набор данных о билетах. Цена записана к колонке price.\n",
    "2. price - вещественное число. Выбранная цена.\n",
    "\n",
    "Эта функция должна вернуть pandas.Series - всю строчку целиком, которое содержит наиближайшее значение к выбранной цене.\n",
    "\n",
    "Шаблон для решения\n",
    "``` python\n",
    "import pandas as pd\n",
    "import numpy as np\n",
    "\n",
    "def find_nearest(df, price):\n",
    "    '''Вставьте ваш код здесь'''\n",
    "```\n",
    "\n",
    "Примечание\n",
    "\n",
    "В качестве отступа внутри функции используется 4 пробела. \n",
    "\n",
    "Комментарий к примерам\n",
    "\n",
    "Ниже приведены примеры для лучшего понимания условия задачи.\n",
    "Однако не стоит ориентироваться на них, как на пример данных, которые нужно читать или выводить, потому что в этой задаче не надо ничего читать и писать.\n",
    "Нужно только реализовать указанную функцию.\n",
    "Это означает, что весь код решения должен находиться внутри тела функции и возвращать требуемый результат через инструкцию return. Операции считывания данных (например, input()) или их вывода (например, print()) писать не надо.\n",
    "Нужно оперировать внутри функции только аргументами, которые подставляются в функцию автоматически.\n",
    "\n",
    "***Пример входных данных для функции***\n",
    "\n",
    "23.00\n",
    "\n",
    "ticket_id,flight_id,operator_id,price\n",
    "\n",
    "FBD1235F,XY2554,SKND,100.00\n",
    "\n",
    "XTT2F576,XY2554,,20.00\n",
    "\n",
    "QTH36773,NF0514,,\n",
    "\n",
    "GDERWRWM,AB4662,DTTG,10.00\n",
    "\n",
    "TTEHWHER,CD9962,AMAR,200.00\n",
    "\n",
    "\n",
    "***Пример результата работы функции***\n",
    "\n",
    "XTT2F576,XY2554,,20.0"
   ]
  },
  {
   "cell_type": "code",
   "execution_count": 2,
   "metadata": {},
   "outputs": [
    {
     "data": {
      "text/html": [
       "<div>\n",
       "<style scoped>\n",
       "    .dataframe tbody tr th:only-of-type {\n",
       "        vertical-align: middle;\n",
       "    }\n",
       "\n",
       "    .dataframe tbody tr th {\n",
       "        vertical-align: top;\n",
       "    }\n",
       "\n",
       "    .dataframe thead th {\n",
       "        text-align: right;\n",
       "    }\n",
       "</style>\n",
       "<table border=\"1\" class=\"dataframe\">\n",
       "  <thead>\n",
       "    <tr style=\"text-align: right;\">\n",
       "      <th></th>\n",
       "      <th>ticket_id</th>\n",
       "      <th>flight_id</th>\n",
       "      <th>operator_id</th>\n",
       "      <th>price</th>\n",
       "    </tr>\n",
       "  </thead>\n",
       "  <tbody>\n",
       "    <tr>\n",
       "      <th>0</th>\n",
       "      <td>FBD1235F</td>\n",
       "      <td>XY2554</td>\n",
       "      <td>SKND</td>\n",
       "      <td>100.0</td>\n",
       "    </tr>\n",
       "    <tr>\n",
       "      <th>1</th>\n",
       "      <td>XTT2F576</td>\n",
       "      <td>XY2554</td>\n",
       "      <td>NaN</td>\n",
       "      <td>20.0</td>\n",
       "    </tr>\n",
       "    <tr>\n",
       "      <th>2</th>\n",
       "      <td>QTH36773</td>\n",
       "      <td>NF0514</td>\n",
       "      <td>NaN</td>\n",
       "      <td>NaN</td>\n",
       "    </tr>\n",
       "    <tr>\n",
       "      <th>3</th>\n",
       "      <td>GDERWRWM</td>\n",
       "      <td>AB4662</td>\n",
       "      <td>DTTG</td>\n",
       "      <td>10.0</td>\n",
       "    </tr>\n",
       "    <tr>\n",
       "      <th>4</th>\n",
       "      <td>TTEHWHER</td>\n",
       "      <td>CD9962</td>\n",
       "      <td>AMAR</td>\n",
       "      <td>200.0</td>\n",
       "    </tr>\n",
       "  </tbody>\n",
       "</table>\n",
       "</div>"
      ],
      "text/plain": [
       "  ticket_id flight_id operator_id  price\n",
       "0  FBD1235F    XY2554        SKND  100.0\n",
       "1  XTT2F576    XY2554         NaN   20.0\n",
       "2  QTH36773    NF0514         NaN    NaN\n",
       "3  GDERWRWM    AB4662        DTTG   10.0\n",
       "4  TTEHWHER    CD9962        AMAR  200.0"
      ]
     },
     "execution_count": 2,
     "metadata": {},
     "output_type": "execute_result"
    }
   ],
   "source": [
    "df = pd.DataFrame({\n",
    "    'ticket_id': ['FBD1235F', 'XTT2F576', 'QTH36773', 'GDERWRWM', 'TTEHWHER'],\n",
    "    'flight_id': ['XY2554', 'XY2554', 'NF0514', 'AB4662', 'CD9962'],\n",
    "    'operator_id': ['SKND', np.NaN, np.NaN, 'DTTG', 'AMAR'],\n",
    "    'price': [100, 20, np.NaN, 10, 200]\n",
    "})\n",
    "df"
   ]
  },
  {
   "cell_type": "code",
   "execution_count": 3,
   "metadata": {},
   "outputs": [],
   "source": [
    "price = 23.00"
   ]
  },
  {
   "cell_type": "code",
   "execution_count": 6,
   "metadata": {},
   "outputs": [
    {
     "data": {
      "text/plain": [
       "3.0"
      ]
     },
     "execution_count": 6,
     "metadata": {},
     "output_type": "execute_result"
    }
   ],
   "source": [
    "min(abs(price - df.price ))"
   ]
  },
  {
   "cell_type": "code",
   "execution_count": 45,
   "metadata": {},
   "outputs": [],
   "source": [
    "def find_nearest(df, price):\n",
    "    return pd.Series(df[(price - df['price']) == min(abs(price - df.price))].values.T.flatten())"
   ]
  },
  {
   "cell_type": "code",
   "execution_count": 39,
   "metadata": {},
   "outputs": [
    {
     "data": {
      "text/html": [
       "<div>\n",
       "<style scoped>\n",
       "    .dataframe tbody tr th:only-of-type {\n",
       "        vertical-align: middle;\n",
       "    }\n",
       "\n",
       "    .dataframe tbody tr th {\n",
       "        vertical-align: top;\n",
       "    }\n",
       "\n",
       "    .dataframe thead th {\n",
       "        text-align: right;\n",
       "    }\n",
       "</style>\n",
       "<table border=\"1\" class=\"dataframe\">\n",
       "  <thead>\n",
       "    <tr style=\"text-align: right;\">\n",
       "      <th></th>\n",
       "      <th>ticket_id</th>\n",
       "      <th>flight_id</th>\n",
       "      <th>operator_id</th>\n",
       "      <th>price</th>\n",
       "    </tr>\n",
       "  </thead>\n",
       "  <tbody>\n",
       "    <tr>\n",
       "      <th>1</th>\n",
       "      <td>XTT2F576</td>\n",
       "      <td>XY2554</td>\n",
       "      <td>NaN</td>\n",
       "      <td>20.0</td>\n",
       "    </tr>\n",
       "  </tbody>\n",
       "</table>\n",
       "</div>"
      ],
      "text/plain": [
       "  ticket_id flight_id operator_id  price\n",
       "1  XTT2F576    XY2554         NaN   20.0"
      ]
     },
     "execution_count": 39,
     "metadata": {},
     "output_type": "execute_result"
    }
   ],
   "source": [
    "find_nearest(df, price)"
   ]
  },
  {
   "cell_type": "code",
   "execution_count": 46,
   "metadata": {},
   "outputs": [
    {
     "data": {
      "text/plain": [
       "pandas.core.series.Series"
      ]
     },
     "execution_count": 46,
     "metadata": {},
     "output_type": "execute_result"
    }
   ],
   "source": [
    "type(pd.Series(df[(price - df['price']) == min(abs(price - df.price))].values.T.flatten()))"
   ]
  },
  {
   "cell_type": "code",
   "execution_count": null,
   "metadata": {},
   "outputs": [],
   "source": []
  }
 ],
 "metadata": {
  "kernelspec": {
   "display_name": "Python 3",
   "language": "python",
   "name": "python3"
  },
  "language_info": {
   "codemirror_mode": {
    "name": "ipython",
    "version": 3
   },
   "file_extension": ".py",
   "mimetype": "text/x-python",
   "name": "python",
   "nbconvert_exporter": "python",
   "pygments_lexer": "ipython3",
   "version": "3.8.8"
  },
  "toc": {
   "base_numbering": 1,
   "nav_menu": {},
   "number_sections": true,
   "sideBar": true,
   "skip_h1_title": false,
   "title_cell": "Table of Contents",
   "title_sidebar": "Contents",
   "toc_cell": true,
   "toc_position": {},
   "toc_section_display": true,
   "toc_window_display": false
  }
 },
 "nbformat": 4,
 "nbformat_minor": 4
}
